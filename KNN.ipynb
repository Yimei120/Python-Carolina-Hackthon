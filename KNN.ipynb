{
 "cells": [
  {
   "cell_type": "code",
   "execution_count": 1,
   "metadata": {},
   "outputs": [],
   "source": [
    "import numpy as np\n",
    "import matplotlib.pyplot as plt\n",
    "import pandas as pd\n",
    "\n"
   ]
  },
  {
   "cell_type": "code",
   "execution_count": 2,
   "metadata": {},
   "outputs": [
    {
     "data": {
      "text/plain": [
       "Index(['Incident Id', 'Date of Arrest', 'Time of Arrest', 'Primary Charge',\n",
       "       'Address', 'Arrestee's Age', 'Arrestee's Race', 'Arrestee's Gender',\n",
       "       'Arrestee's Ethnicity', 'Type of Arrest', 'Drugs or Alcohol Present',\n",
       "       'Weapon Present'],\n",
       "      dtype='object')"
      ]
     },
     "execution_count": 2,
     "metadata": {},
     "output_type": "execute_result"
    }
   ],
   "source": [
    "police_arrests_made = pd.read_csv('E:/data challenge/police-arrests-made.csv',encoding=\"utf-8\", sep=';')\n",
    "police_arrests_made=police_arrests_made.dropna()\n",
    "police_arrests_made.columns"
   ]
  },
  {
   "cell_type": "code",
   "execution_count": 3,
   "metadata": {},
   "outputs": [],
   "source": [
    "police_arrests_made.columns = ['Incident_Id', 'Date_of_Arrest', 'Time_of_Arrest', 'Primary_Charge',\n",
    "       'Address', \"Arrestee's_Age\", \"Arrestee_s_Race\", \"Arrestee's_Gende\",\n",
    "       \"Arrestee's_Ethnicity\", 'Type_of_Arrest', 'Drugs_or_Alcohol_Present',\n",
    "       'Weapon_Present']\n",
    "#keep primary charge type >=100\n",
    "police_arrests_made=police_arrests_made.groupby(police_arrests_made.iloc[:,3]).filter(lambda x: len(x)>=100)\n"
   ]
  },
  {
   "cell_type": "code",
   "execution_count": 4,
   "metadata": {},
   "outputs": [],
   "source": [
    "def H(row):\n",
    "   if row[\"Arrestee's_Ethnicity\"] == 'H' :\n",
    "      return 1\n",
    "   return 0\n",
    "\n",
    "police_arrests_made['Hispanico'] = police_arrests_made.apply (lambda row: H(row), axis=1)\n",
    "\n",
    "def N(row):\n",
    "   if row[\"Arrestee's_Ethnicity\"] == 'N' :\n",
    "      return 1\n",
    "   return 0\n",
    "\n",
    "police_arrests_made['None'] = police_arrests_made.apply (lambda row: N(row), axis=1)\n",
    "\n",
    "def U(row):\n",
    "   if row[\"Arrestee's_Ethnicity\"] == 'U' :\n",
    "      return 1\n",
    "   return 0\n",
    "\n",
    "police_arrests_made['Unknown'] = police_arrests_made.apply (lambda row: U(row), axis=1)\n",
    "\n",
    "police_arrests_made = police_arrests_made.drop([\"Arrestee's_Ethnicity\"],axis=1)\n"
   ]
  },
  {
   "cell_type": "code",
   "execution_count": 5,
   "metadata": {},
   "outputs": [],
   "source": [
    "def White(row):\n",
    "   if row[\"Arrestee_s_Race\"] == 'W' :\n",
    "      return 1\n",
    "   return 0\n",
    "\n",
    "police_arrests_made['White'] = police_arrests_made.apply (lambda row: White(row), axis=1)\n",
    "\n",
    "def Black(row):\n",
    "   if row[\"Arrestee_s_Race\"] == 'B' :\n",
    "      return 1\n",
    "   return 0\n",
    "\n",
    "police_arrests_made['Black'] = police_arrests_made.apply (lambda row: Black(row), axis=1)\n",
    "\n",
    "def Asian(row):\n",
    "   if row[\"Arrestee_s_Race\"] == 'A' :\n",
    "      return 1\n",
    "   return 0\n",
    "\n",
    "police_arrests_made['Asian'] = police_arrests_made.apply (lambda row: Asian(row), axis=1)\n",
    "\n",
    "\n",
    "def White(row):\n",
    "   if row[\"Arrestee_s_Race\"] == 'W' :\n",
    "      return 1\n",
    "   return 0\n",
    "\n",
    "police_arrests_made['White'] = police_arrests_made.apply (lambda row: White(row), axis=1)\n",
    "\n",
    "def Indian(row):\n",
    "   if row[\"Arrestee_s_Race\"] == 'I' :\n",
    "      return 1\n",
    "   return 0\n",
    "\n",
    "police_arrests_made['Indian'] = police_arrests_made.apply (lambda row: Indian(row), axis=1)\n",
    "\n",
    "def Unknown(row):\n",
    "   if row[\"Arrestee_s_Race\"] == 'O' :\n",
    "      return 1\n",
    "   return 0\n",
    "\n",
    "police_arrests_made['Unknown'] = police_arrests_made.apply (lambda row: Unknown(row), axis=1)\n",
    "\n",
    "police_arrests_made = police_arrests_made.drop([\"Arrestee_s_Race\"],axis=1)\n"
   ]
  },
  {
   "cell_type": "code",
   "execution_count": 6,
   "metadata": {},
   "outputs": [],
   "source": [
    "Gende_map = {'M':0, 'F':1}\n",
    "Drugs_map = {'N':0, 'Y':1}\n",
    "Weapon_map = {'UNARMED': 0, 'ARMED': 1}\n",
    "\n",
    "police_arrests_made[\"Arrestee's_Gende\"] = police_arrests_made[\"Arrestee's_Gende\"].map(Gende_map)\n",
    "police_arrests_made['Drugs_or_Alcohol_Present'] = police_arrests_made['Drugs_or_Alcohol_Present'].map(Drugs_map)\n",
    "police_arrests_made['Weapon_Present'] = police_arrests_made['Weapon_Present'].map(Weapon_map)"
   ]
  },
  {
   "cell_type": "code",
   "execution_count": 7,
   "metadata": {},
   "outputs": [],
   "source": [
    "police_arrests_made = police_arrests_made.dropna()"
   ]
  },
  {
   "cell_type": "code",
   "execution_count": 8,
   "metadata": {},
   "outputs": [
    {
     "data": {
      "text/plain": [
       "array(['IMPAIRED DRIVING DWI', 'FAIL TO APPEAR/COMPL',\n",
       "       'FAIL TO APPEAR/COMPL', ..., 'FAIL TO APPEAR/COMPL',\n",
       "       'IMPAIRED DRIVING DWI', 'POSSESSION MARIJUANA'], dtype=object)"
      ]
     },
     "execution_count": 8,
     "metadata": {},
     "output_type": "execute_result"
    }
   ],
   "source": [
    "\n",
    "x=police_arrests_made.iloc[:,5:].drop(['Type_of_Arrest'],axis=1).values\n",
    "y=police_arrests_made.iloc[:,3].values\n",
    "y "
   ]
  },
  {
   "cell_type": "code",
   "execution_count": 22,
   "metadata": {},
   "outputs": [],
   "source": [
    "from sklearn.model_selection import train_test_split\n",
    "X_train, X_test, y_train, y_test = train_test_split(x, y, test_size=0.20)"
   ]
  },
  {
   "cell_type": "code",
   "execution_count": 23,
   "metadata": {
    "scrolled": true
   },
   "outputs": [],
   "source": [
    "from sklearn.preprocessing import StandardScaler\n",
    "scaler = StandardScaler()\n",
    "scaler.fit(X_train)\n",
    "\n",
    "X_train = scaler.transform(X_train)\n",
    "X_test = scaler.transform(X_test)"
   ]
  },
  {
   "cell_type": "code",
   "execution_count": 48,
   "metadata": {},
   "outputs": [
    {
     "data": {
      "text/plain": [
       "KNeighborsClassifier(algorithm='auto', leaf_size=30, metric='minkowski',\n",
       "                     metric_params=None, n_jobs=None, n_neighbors=60, p=2,\n",
       "                     weights='uniform')"
      ]
     },
     "execution_count": 48,
     "metadata": {},
     "output_type": "execute_result"
    }
   ],
   "source": [
    "from sklearn.neighbors import KNeighborsClassifier\n",
    "classifier = KNeighborsClassifier(n_neighbors=60)\n",
    "classifier.fit(X_train, y_train)"
   ]
  },
  {
   "cell_type": "code",
   "execution_count": 49,
   "metadata": {},
   "outputs": [
    {
     "data": {
      "text/plain": [
       "0.424956369982548"
      ]
     },
     "execution_count": 49,
     "metadata": {},
     "output_type": "execute_result"
    }
   ],
   "source": [
    "from sklearn import metrics\n",
    "y_pred = classifier.predict(X_test)\n",
    "metrics.accuracy_score(y_test, y_pred)"
   ]
  },
  {
   "cell_type": "code",
   "execution_count": 26,
   "metadata": {},
   "outputs": [
    {
     "name": "stdout",
     "output_type": "stream",
     "text": [
      "[[  9   3   0   2   0   0   0   2   0  24  14   0   5   1   1   0   0   0]\n",
      " [  9   3   0   1   0   0   0   0   1  21  12   0   7   1   1   0   0   0]\n",
      " [  3   0   8   0   0   0   0   0   1   9   5   0   1   0   0   0   0   1]\n",
      " [  3   0   3   1   0   0   1   0   1   7   4   0   7   0   0   0   0   1]\n",
      " [  2   3   0   1   0   0   0   0   0  10   1   1   1   0   0   0   0   0]\n",
      " [  3   1   0   1   0   0   0   0   0  11   1   0   3   0   1   0   0   0]\n",
      " [  0   0   0   0   0   0   8   0   0   1   8   1   0   2   0   0   0  13]\n",
      " [  1   2   1   0   1   1   0   0   0   5  10   0   5   1   0   0   0   3]\n",
      " [  5   0   0   0   1   0   0   1   1   6  11   0  16   0   0   0   0   0]\n",
      " [ 11  15  11   0   3   1   1   0   1 125  18   1  23   1   1   0   0   1]\n",
      " [ 14   0   6   3   2   0   5   0  11   7 133   2  20   9   0   0   0   4]\n",
      " [  4   2   2   0   1   0   0   0   0  18   3   0   5   0   0   0   0   0]\n",
      " [ 21   1   2   7   3   0   1   1   0  29  43   0  76   1   0   0   0   0]\n",
      " [  2   1   0   0   0   0   3   0   2   7  26   0   3   4   0   0   0   4]\n",
      " [  8   0   0   1   0   0   0   0   0   8   8   0  16   1   2   0   0   0]\n",
      " [  3   0   0   0   0   0   0   0   0   1  11   0   6   0   0   0   0   3]\n",
      " [  0   1   1   0   0   0   0   0   0   2   8   0   3   0   0   0   0   0]\n",
      " [  0   0   0   0   0   0  16   0   0   0   8   0   0   2   0   0   0  19]]\n",
      "                                         precision    recall  f1-score   support\n",
      "\n",
      "                    2ND DEGREE TRESPASS       0.09      0.15      0.11        61\n",
      "                      ASSAULT ON FEMALE       0.09      0.05      0.07        56\n",
      "                         ASSAULT-SIMPLE       0.24      0.29      0.26        28\n",
      "                    BREAKING/ENTER-MISD       0.06      0.04      0.04        28\n",
      "                   BREAKING/LARC-FELONY       0.00      0.00      0.00        19\n",
      "                    COMMUNICATE THREATS       0.00      0.00      0.00        21\n",
      "CONSUME ALCOHOLIC BEVERAGE LESS THAN 21       0.23      0.24      0.24        33\n",
      "                     DRUG PARAPHERNALIA       0.00      0.00      0.00        30\n",
      "                     DRUNK / DISRUPTIVE       0.06      0.02      0.03        41\n",
      "                   FAIL TO APPEAR/COMPL       0.43      0.59      0.50       213\n",
      "                   IMPAIRED DRIVING DWI       0.41      0.62      0.49       216\n",
      "                   LARCENY -  ALL OTHER       0.00      0.00      0.00        35\n",
      "                         OPEN CONTAINER       0.39      0.41      0.40       185\n",
      "                   POSSESSION MARIJUANA       0.17      0.08      0.11        52\n",
      "                     PUBLIC CONSUMPTION       0.33      0.05      0.08        44\n",
      "                       PUBLIC URINATION       0.00      0.00      0.00        24\n",
      "                       RESISTING ARREST       0.00      0.00      0.00        15\n",
      "                    UNDERAGE POSSESSION       0.39      0.42      0.40        45\n",
      "\n",
      "                               accuracy                           0.34      1146\n",
      "                              macro avg       0.16      0.16      0.15      1146\n",
      "                           weighted avg       0.28      0.34      0.30      1146\n",
      "\n"
     ]
    },
    {
     "name": "stderr",
     "output_type": "stream",
     "text": [
      "C:\\Users\\ymei\\AppData\\Roaming\\Python\\Python36\\site-packages\\sklearn\\metrics\\classification.py:1437: UndefinedMetricWarning: Precision and F-score are ill-defined and being set to 0.0 in labels with no predicted samples.\n",
      "  'precision', 'predicted', average, warn_for)\n"
     ]
    }
   ],
   "source": [
    "from sklearn.metrics import classification_report, confusion_matrix\n",
    "print(confusion_matrix(y_test, y_pred))\n",
    "print(classification_report(y_test, y_pred))"
   ]
  },
  {
   "cell_type": "code",
   "execution_count": 14,
   "metadata": {},
   "outputs": [],
   "source": [
    "mapping = {'2ND DEGREE TRESPASS':1, 'ASSAULT ON FEMALE':2, 'ASSAULT-SIMPLE':3, 'BREAKING/ENTER-MISD': 4, 'BREAKING/LARC-FELONY': 5, 'COMMUNICATE THREATS':6, \n",
    "          'CONSUME ALCOHOLIC BEVERAGE LESS THAN 21':7, 'DRUG PARAPHERNALIA':8,'DRUNK / DISRUPTIVE':9, 'FAIL TO APPEAR/COMPL':10,'IMPAIRED DRIVING DWI':11, 'LARCENY -  ALL OTHER':12,\n",
    "          'OPEN CONTAINER': 13,'POSSESSION MARIJUANA':14,  'PUBLIC CONSUMPTION':15, 'PUBLIC URINATION':16,'RESISTING ARREST':17,'UNDERAGE POSSESSION':18}"
   ]
  },
  {
   "cell_type": "code",
   "execution_count": 15,
   "metadata": {},
   "outputs": [],
   "source": [
    "error = []\n",
    "\n",
    "# Calculating error for K values between 1 and 40\n",
    "for i in range(1, 100):\n",
    "    knn = KNeighborsClassifier(n_neighbors=i)\n",
    "    knn.fit(X_train, y_train)\n",
    "    pred_i = knn.predict(X_test)\n",
    "    error.append(np.mean(pred_i != y_test))"
   ]
  },
  {
   "cell_type": "code",
   "execution_count": 16,
   "metadata": {},
   "outputs": [
    {
     "data": {
      "text/plain": [
       "Text(0, 0.5, 'Mean Error')"
      ]
     },
     "execution_count": 16,
     "metadata": {},
     "output_type": "execute_result"
    },
    {
     "data": {
      "image/png": "[encoded data removed]",
      "text/plain": [
       "<Figure size 864x432 with 1 Axes>"
      ]
     },
     "metadata": {},
     "output_type": "display_data"
    }
   ],
   "source": [
    "plt.figure(figsize=(12, 6))\n",
    "plt.plot(range(1, 100), error, color='orange', linestyle='dashed', marker='o',\n",
    "         markerfacecolor='orange', markersize=10)\n",
    "plt.title('Error Rate K Value')\n",
    "plt.xlabel('K Value')\n",
    "plt.ylabel('Mean Error')"
   ]
  },
  {
   "cell_type": "code",
   "execution_count": 59,
   "metadata": {},
   "outputs": [],
   "source": [
    "from sklearn import neighbors\n",
    "from mlxtend.plotting import plot_decision_regions\n",
    "def knn_comparison(data, k):\n",
    "    x = data[[\"Arrestee's_Age\", \"Arrestee's_Gende\"]].values\n",
    "    y = data[\"Primary_Charge\"].map(mapping).values\n",
    "    clf = neighbors.KNeighborsClassifier(n_neighbors=k)\n",
    "    clf.fit(x, y)\n",
    "    # Plotting decision region\n",
    "    plot_decision_regions(x, y, clf=clf, legend=2,res=0.02)\n",
    "    # Adding axes annotations\n",
    "    plt.xlabel(\"Arrestee's_Age\")\n",
    "    plt.ylabel(\"Arrestee's_Gende\")\n",
    "    plt.title(\"Knn with K=\"+ str(k))\n",
    "    plt.figure(dpi=600)\n",
    "    plt.show()\n",
    "\n"
   ]
  },
  {
   "cell_type": "code",
   "execution_count": 60,
   "metadata": {},
   "outputs": [
    {
     "data": {
      "image/png": "[encoded data removed]",
      "text/plain": [
       "<Figure size 432x288 with 1 Axes>"
      ]
     },
     "metadata": {},
     "output_type": "display_data"
    },
    {
     "data": {
      "text/plain": [
       "<Figure size 3600x2400 with 0 Axes>"
      ]
     },
     "metadata": {},
     "output_type": "display_data"
    }
   ],
   "source": [
    "knn_comparison(police_arrests_made, 10)"
   ]
  },
  {
   "cell_type": "code",
   "execution_count": null,
   "metadata": {},
   "outputs": [],
   "source": []
  },
  {
   "cell_type": "code",
   "execution_count": null,
   "metadata": {},
   "outputs": [],
   "source": []
  },
  {
   "cell_type": "code",
   "execution_count": null,
   "metadata": {},
   "outputs": [],
   "source": []
  },
  {
   "cell_type": "code",
   "execution_count": null,
   "metadata": {},
   "outputs": [],
   "source": []
  }
 ],
 "metadata": {
  "kernelspec": {
   "display_name": "Python 3",
   "language": "python",
   "name": "python3"
  },
  "language_info": {
   "codemirror_mode": {
    "name": "ipython",
    "version": 3
   },
   "file_extension": ".py",
   "mimetype": "text/x-python",
   "name": "python",
   "nbconvert_exporter": "python",
   "pygments_lexer": "ipython3",
   "version": "3.6.4"
  }
 },
 "nbformat": 4,
 "nbformat_minor": 2
}
